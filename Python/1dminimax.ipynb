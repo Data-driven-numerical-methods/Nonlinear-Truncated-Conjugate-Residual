{
 "cells": [
  {
   "cell_type": "code",
   "execution_count": 1,
   "metadata": {},
   "outputs": [],
   "source": [
    "import matplotlib.patches as mpatches\n",
    "import os\n",
    "import autograd.numpy as np\n",
    "import matplotlib.pylab as pylab\n",
    "import numpy as np\n",
    "import matplotlib.pyplot as plt\n",
    "import autograd.numpy as np\n",
    "\n",
    "from matplotlib import cm\n",
    "from matplotlib.ticker import LinearLocator, FormatStrFormatter\n",
    "from autograd import elementwise_grad, value_and_grad\n",
    "from mpl_toolkits.mplot3d import Axes3D\n",
    "from problems import func1, func2, func3, func4\n",
    "\n",
    "import warnings\n",
    "\n",
    "warnings.filterwarnings('ignore')\n",
    "plt.rcParams.update({'font.size': 14})\n",
    "def_colors=(plt.rcParams['axes.prop_cycle'].by_key()['color'])\n",
    "import seaborn as sns\n",
    "# sns.set_theme()\n",
    "plt.rcParams['figure.facecolor'] = 'white'"
   ]
  },
  {
   "cell_type": "code",
   "execution_count": 2,
   "metadata": {},
   "outputs": [],
   "source": [
    "params = {'mathtext.default': 'regular' } \n",
    "plt.rcParams.update(params)"
   ]
  },
  {
   "cell_type": "code",
   "execution_count": 3,
   "metadata": {},
   "outputs": [],
   "source": [
    "def simgd(problem, x0, y0, iteration, lr, k=0):\n",
    "    x, y = x0, y0\n",
    "    xopt, yopt = problem.xopt, problem.yopt\n",
    "    x_hist, y_hist = [x], [y]\n",
    "    loss = [np.sqrt((x-xopt)**2 + (y-yopt)**2)]\n",
    "    for i in range(iteration):\n",
    "        g_x, g_y = problem.grad(x,y)\n",
    "        x -= lr * g_x\n",
    "        y += lr * g_y\n",
    "        x_hist.append(x)\n",
    "        y_hist.append(y)\n",
    "        loss.append(problem.loss(x, y))\n",
    "    return loss, x_hist, y_hist\n",
    "\n",
    "\n",
    "def altgd(problem, x0, y0, iteration, lr, k=0):\n",
    "    x, y = x0, y0\n",
    "    xopt, yopt = problem.xopt, problem.yopt\n",
    "    x_hist, y_hist = [x], [y]\n",
    "    loss = [np.sqrt((x-xopt)**2 + (y-yopt)**2)]\n",
    "    for i in range(iteration):\n",
    "        g_x, _ = problem.grad(x,y)\n",
    "        x -= lr * g_x\n",
    "        _, g_y = problem.grad(x,y)\n",
    "        y += lr * g_y\n",
    "        x_hist.append(x)\n",
    "        y_hist.append(y)\n",
    "        loss.append(problem.loss(x, y))\n",
    "    return loss, x_hist, y_hist\n",
    "\n",
    "\n",
    "def adam(problem, x0, y0, iteration, lr, k=0):\n",
    "    x, y = x0, y0\n",
    "    LR = lr\n",
    "    xopt, yopt = problem.xopt, problem.yopt\n",
    "    x_hist, y_hist = [x], [y]\n",
    "    loss = [np.sqrt((x-xopt)**2 + (y-yopt)**2)]\n",
    "    BETA_1 = 0.5\n",
    "    BETA_2 = 0.99\n",
    "    EPSILON = 1e-8\n",
    "    v_x, v_y = 0., 0.\n",
    "    m_x, m_y = 0., 0.\n",
    "    for i in range(iteration):\n",
    "        g_x, g_y = problem.grad(x,y)\n",
    "        m_x = BETA_1*m_x + (1-BETA_1)*g_x\n",
    "        m_y = BETA_1*m_y + (1-BETA_1)*g_y \n",
    "        v_x = BETA_2*v_x + (1-BETA_2)*g_x**2\n",
    "        v_y = BETA_2*v_y + (1-BETA_2)*g_y**2\n",
    "        m_hat_x = m_x/(1-BETA_1**(i+1))\n",
    "        m_hat_y = m_y/(1-BETA_1**(i+1))\n",
    "        v_hat_x = v_x\n",
    "        v_hat_y = v_y\n",
    "        x = x - LR*m_hat_x/(np.sqrt(v_hat_x)+EPSILON)\n",
    "        y = y + LR*m_hat_y/(np.sqrt(v_hat_y)+EPSILON)\n",
    "        x_hist.append(x)\n",
    "        y_hist.append(y)\n",
    "        loss.append(problem.loss(x, y))\n",
    "    return loss, x_hist, y_hist\n",
    "\n",
    "\n",
    "def avg(problem, x0, y0, iteration, lr, k=0):\n",
    "    x, y = x0, y0\n",
    "    xopt, yopt = problem.xopt, problem.yopt\n",
    "    loss = [np.sqrt((x-xopt)**2 + (y-yopt)**2)]\n",
    "    xavg, yavg = x, y\n",
    "    x_hist, y_hist = [xavg], [yavg]\n",
    "    for i in range(iteration):\n",
    "        x = x - lr/np.sqrt(i+1)*(y)\n",
    "        y = y + lr/np.sqrt(i+1)*(x)        \n",
    "        xavg = xavg*(i+1)/(i+2) + x/(i+2)\n",
    "        yavg = yavg*(i+1)/(i+2) + y/(i+2)        \n",
    "        x_hist.append(xavg)\n",
    "        y_hist.append(yavg)\n",
    "        loss.append(problem.loss(xavg, yavg))\n",
    "    return loss, x_hist, y_hist\n",
    "\n",
    "def omd(problem, x0, y0, iteration, lr, k=0):\n",
    "    x, y = x0, y0\n",
    "    x_l, y_l = 0.5*x0, 0.5*y0\n",
    "    g_xl, g_yl = problem.grad(x_l,y_l)\n",
    "    xopt, yopt = problem.xopt, problem.yopt\n",
    "    x_hist, y_hist = [x], [y]\n",
    "    loss = [np.sqrt((x-xopt)**2 + (y-yopt)**2)]\n",
    "    for i in range(iteration):\n",
    "        g_x, g_y = problem.grad(x,y)\n",
    "        x = x - 2 * lr * g_x + lr * g_xl\n",
    "        y = y + 2 * lr * g_y - lr * g_yl\n",
    "        x_hist.append(x)\n",
    "        y_hist.append(y)\n",
    "        g_xl, g_yl =  g_x, g_y\n",
    "        loss.append(problem.loss(x, y))\n",
    "    return loss, x_hist, y_hist\n",
    "\n",
    "def eg(problem, x0, y0, iteration, lr, k=0):\n",
    "    x, y = x0, y0\n",
    "    xopt, yopt = problem.xopt, problem.yopt\n",
    "    x_hist, y_hist = [x], [y]\n",
    "    loss = [np.sqrt((x-xopt)**2 + (y-yopt)**2)]\n",
    "    for i in range(iteration):\n",
    "        g_x, g_y = problem.grad(x,y)\n",
    "        xe = x - lr * g_x\n",
    "        ye = y + lr * g_y\n",
    "        g_x, g_y = problem.grad(xe,ye)\n",
    "        x -= lr * g_x\n",
    "        y += lr * g_y\n",
    "        x_hist.append(x)\n",
    "        y_hist.append(y)\n",
    "        loss.append(problem.loss(x, y))\n",
    "    return loss, x_hist, y_hist\n",
    "\n",
    "def fr(problem, x0, y0, iteration, lr, k=0):\n",
    "    x, y = x0, y0\n",
    "    xopt, yopt = problem.xopt, problem.yopt\n",
    "    x_hist, y_hist = [x], [y]\n",
    "    loss = [np.sqrt((x-xopt)**2 + (y-yopt)**2)]    \n",
    "    for i in range(iteration):\n",
    "        g_x, g_y = problem.grad(x,y)\n",
    "        mod = problem.fr(x, y)\n",
    "        x -= lr * g_x\n",
    "        y += lr * g_y + lr * mod * g_x\n",
    "        x_hist.append(x)\n",
    "        y_hist.append(y)\n",
    "        loss.append(problem.loss(x, y))\n",
    "    return loss, x_hist, y_hist"
   ]
  },
  {
   "cell_type": "code",
   "execution_count": 4,
   "metadata": {},
   "outputs": [],
   "source": [
    "from method import NLTGCR\n",
    "import torch\n",
    "import numpy.linalg as nalg"
   ]
  },
  {
   "cell_type": "code",
   "execution_count": 5,
   "metadata": {},
   "outputs": [],
   "source": [
    "def main(problem, iteration, x0, y0, lrset, k=5):\n",
    "    allloss = [[] for _ in  range(4)]\n",
    "    allxpath = [[] for _ in  range(4)]\n",
    "    allypath = [[] for _ in  range(4)]\n",
    "    allloss[3], allxpath[3], allypath[3]= nltgcr(problem, x0, y0, 10, lrset['fr'],k)  \n",
    "    allloss[0], allxpath[0], allypath[0] = altgd(problem, x0, y0, iteration, lr=lrset['altgd'])\n",
    "    allloss[1], allxpath[1], allypath[1] = eg(problem, x0, y0, iteration, lr=lrset['eg'])\n",
    "    allloss[2], allxpath[2], allypath[2]= fr(problem, x0, y0, iteration, lr=lrset['fr'])   \n",
    "    return allloss, allxpath, allypath"
   ]
  },
  {
   "cell_type": "code",
   "execution_count": 8,
   "metadata": {},
   "outputs": [],
   "source": [
    "import jax.numpy as jnp"
   ]
  },
  {
   "cell_type": "code",
   "execution_count": 9,
   "metadata": {},
   "outputs": [],
   "source": [
    "def nltgcr(problem, x0, y0, iteration, lr, k):\n",
    "    lb = k\n",
    "    epsf = 1e-3\n",
    "    P = jnp.zeros((2, lb))\n",
    "    AP = jnp.zeros((2, lb))\n",
    "    w = jnp.array([x0, y0])\n",
    "    def FF(w):\n",
    "        g_x, g_y = problem.grad(w[0],w[1])\n",
    "        return  jnp.array([-g_x, g_y])\n",
    "    \n",
    "    def FF2(w):\n",
    "        g_x, g_y = problem.hgrad(w[0],w[1])\n",
    "        return  jnp.array([-g_x, g_y])\n",
    "    \n",
    "    def FH(w, r):\n",
    "        v = FF2(w+1e-3*1j)/(1e-3*1j)\n",
    "        return  jnp.abs(v)\n",
    "    \n",
    "    x_hist = [x0]\n",
    "    y_hist = [y0]\n",
    "    loss = [problem.loss(x0, y0)]\n",
    "    ep = 1e-8\n",
    "    for jj in range(50):\n",
    "        r = FF(w)\n",
    "        rho = nalg.norm(r)\n",
    "        Ar = (FH(w,r)-r)/ep\n",
    "        t = nalg.norm(Ar)\n",
    "        t = 1.0/t\n",
    "        P[:,0] = t*r\n",
    "        AP[:,0]=  t *Ar\n",
    "        i2 = 1\n",
    "        i = 1\n",
    "        # Estimation of optimal parameters\n",
    "        for it in range(lb):\n",
    "            alph = np.dot(np.transpose(AP),r)\n",
    "            w = w + P@(alph)\n",
    "            r = FF(w)\n",
    "            rho = nalg.norm(r)\n",
    "            Ar = (FH(w, r)-r)/ep\n",
    "            p = r\n",
    "            if i <= lb:\n",
    "                k = 0\n",
    "            else:\n",
    "                k = i2\n",
    "            while True:\n",
    "                if k ==lb:\n",
    "                    k = 0\n",
    "                k +=1\n",
    "                tau = np.inner(Ar, AP[:,k-1])\n",
    "                p = p - tau*(P[:,k-1])\n",
    "                Ar = Ar -  tau*(AP[:,k-1])\n",
    "                if k == i2:\n",
    "                    break\n",
    "            t = nalg.norm(Ar)\n",
    "            if (i2) == lb:\n",
    "                i2 = 0\n",
    "            i2 = i2+1\n",
    "            i = i+1\n",
    "            t = 1.0/t\n",
    "            AP[:,i2-1] = t*Ar\n",
    "            P[:,i2-1] = t*p\n",
    "            x,y = w[0],w[1]\n",
    "            x_hist.append(x)\n",
    "            y_hist.append(y)\n",
    "            loss.append(problem.loss(x, y).item())\n",
    "    return loss, x_hist, y_hist"
   ]
  },
  {
   "cell_type": "code",
   "execution_count": 13,
   "metadata": {},
   "outputs": [
    {
     "data": {
      "text/plain": [
       "DeviceArray(9.447126, dtype=float32, weak_type=True)"
      ]
     },
     "execution_count": 13,
     "metadata": {},
     "output_type": "execute_result"
    }
   ],
   "source": [
    "from jax import grad\n",
    "x = 3.0\n",
    "y= 4.0\n",
    "f = lambda x, y: (4*x**2 -(y-3*x+0.05*x**3)**2-0.1*y**4) * jnp.exp(-0.01 * (x**2+y**2))\n",
    "grad(f)(x, y)"
   ]
  },
  {
   "cell_type": "code",
   "execution_count": 14,
   "metadata": {},
   "outputs": [
    {
     "data": {
      "text/plain": [
       "DeviceArray(-14.069971, dtype=float32, weak_type=True)"
      ]
     },
     "execution_count": 14,
     "metadata": {},
     "output_type": "execute_result"
    }
   ],
   "source": [
    "grad(f,1)(x, y)"
   ]
  },
  {
   "cell_type": "code",
   "execution_count": 10,
   "metadata": {},
   "outputs": [
    {
     "name": "stdout",
     "output_type": "stream",
     "text": [
      "Quad\n"
     ]
    },
    {
     "ename": "TypeError",
     "evalue": "Can't differentiate w.r.t. type <class 'jaxlib.xla_extension.DeviceArray'>",
     "output_type": "error",
     "traceback": [
      "\u001b[0;31m---------------------------------------------------------------------------\u001b[0m",
      "\u001b[0;31mKeyError\u001b[0m                                  Traceback (most recent call last)",
      "\u001b[0;32m~/anaconda3/envs/cuda116/lib/python3.7/site-packages/autograd/tracer.py\u001b[0m in \u001b[0;36mnew_box\u001b[0;34m(value, trace, node)\u001b[0m\n\u001b[1;32m    117\u001b[0m     \u001b[0;32mtry\u001b[0m\u001b[0;34m:\u001b[0m\u001b[0;34m\u001b[0m\u001b[0;34m\u001b[0m\u001b[0m\n\u001b[0;32m--> 118\u001b[0;31m         \u001b[0;32mreturn\u001b[0m \u001b[0mbox_type_mappings\u001b[0m\u001b[0;34m[\u001b[0m\u001b[0mtype\u001b[0m\u001b[0;34m(\u001b[0m\u001b[0mvalue\u001b[0m\u001b[0;34m)\u001b[0m\u001b[0;34m]\u001b[0m\u001b[0;34m(\u001b[0m\u001b[0mvalue\u001b[0m\u001b[0;34m,\u001b[0m \u001b[0mtrace\u001b[0m\u001b[0;34m,\u001b[0m \u001b[0mnode\u001b[0m\u001b[0;34m)\u001b[0m\u001b[0;34m\u001b[0m\u001b[0;34m\u001b[0m\u001b[0m\n\u001b[0m\u001b[1;32m    119\u001b[0m     \u001b[0;32mexcept\u001b[0m \u001b[0mKeyError\u001b[0m\u001b[0;34m:\u001b[0m\u001b[0;34m\u001b[0m\u001b[0;34m\u001b[0m\u001b[0m\n",
      "\u001b[0;31mKeyError\u001b[0m: <class 'jaxlib.xla_extension.DeviceArray'>",
      "\nDuring handling of the above exception, another exception occurred:\n",
      "\u001b[0;31mTypeError\u001b[0m                                 Traceback (most recent call last)",
      "\u001b[0;32m/tmp/ipykernel_247437/3656555983.py\u001b[0m in \u001b[0;36m<module>\u001b[0;34m\u001b[0m\n\u001b[1;32m      8\u001b[0m \u001b[0;34m\u001b[0m\u001b[0m\n\u001b[1;32m      9\u001b[0m \u001b[0mtype2\u001b[0m\u001b[0;34m=\u001b[0m\u001b[0;32mTrue\u001b[0m\u001b[0;34m\u001b[0m\u001b[0;34m\u001b[0m\u001b[0m\n\u001b[0;32m---> 10\u001b[0;31m \u001b[0mloss_f3\u001b[0m\u001b[0;34m,\u001b[0m \u001b[0mxpath_f3\u001b[0m\u001b[0;34m,\u001b[0m \u001b[0mypath_f3\u001b[0m \u001b[0;34m=\u001b[0m \u001b[0mmain\u001b[0m\u001b[0;34m(\u001b[0m\u001b[0mproblem\u001b[0m\u001b[0;34m,\u001b[0m \u001b[0miteration\u001b[0m\u001b[0;34m,\u001b[0m \u001b[0mx0\u001b[0m\u001b[0;34m,\u001b[0m \u001b[0my0\u001b[0m\u001b[0;34m,\u001b[0m \u001b[0mlr_set\u001b[0m\u001b[0;34m,\u001b[0m \u001b[0mk\u001b[0m\u001b[0;34m=\u001b[0m\u001b[0;36m3\u001b[0m\u001b[0;34m)\u001b[0m\u001b[0;34m\u001b[0m\u001b[0;34m\u001b[0m\u001b[0m\n\u001b[0m\u001b[1;32m     11\u001b[0m \u001b[0mxmin\u001b[0m\u001b[0;34m,\u001b[0m \u001b[0mxmax\u001b[0m\u001b[0;34m,\u001b[0m \u001b[0mxstep\u001b[0m \u001b[0;34m=\u001b[0m \u001b[0;34m[\u001b[0m\u001b[0;34m-\u001b[0m\u001b[0;36m7\u001b[0m\u001b[0;34m,\u001b[0m \u001b[0;36m7\u001b[0m\u001b[0;34m,\u001b[0m \u001b[0;36m.1\u001b[0m\u001b[0;34m]\u001b[0m\u001b[0;34m\u001b[0m\u001b[0;34m\u001b[0m\u001b[0m\n\u001b[1;32m     12\u001b[0m \u001b[0mymin\u001b[0m\u001b[0;34m,\u001b[0m \u001b[0mymax\u001b[0m\u001b[0;34m,\u001b[0m \u001b[0mystep\u001b[0m \u001b[0;34m=\u001b[0m \u001b[0;34m[\u001b[0m\u001b[0;34m-\u001b[0m\u001b[0;36m7\u001b[0m\u001b[0;34m,\u001b[0m \u001b[0;36m7\u001b[0m\u001b[0;34m,\u001b[0m \u001b[0;36m.1\u001b[0m\u001b[0;34m]\u001b[0m\u001b[0;34m\u001b[0m\u001b[0;34m\u001b[0m\u001b[0m\n",
      "\u001b[0;32m/tmp/ipykernel_247437/4122833418.py\u001b[0m in \u001b[0;36mmain\u001b[0;34m(problem, iteration, x0, y0, lrset, k)\u001b[0m\n\u001b[1;32m      3\u001b[0m     \u001b[0mallxpath\u001b[0m \u001b[0;34m=\u001b[0m \u001b[0;34m[\u001b[0m\u001b[0;34m[\u001b[0m\u001b[0;34m]\u001b[0m \u001b[0;32mfor\u001b[0m \u001b[0m_\u001b[0m \u001b[0;32min\u001b[0m  \u001b[0mrange\u001b[0m\u001b[0;34m(\u001b[0m\u001b[0;36m4\u001b[0m\u001b[0;34m)\u001b[0m\u001b[0;34m]\u001b[0m\u001b[0;34m\u001b[0m\u001b[0;34m\u001b[0m\u001b[0m\n\u001b[1;32m      4\u001b[0m     \u001b[0mallypath\u001b[0m \u001b[0;34m=\u001b[0m \u001b[0;34m[\u001b[0m\u001b[0;34m[\u001b[0m\u001b[0;34m]\u001b[0m \u001b[0;32mfor\u001b[0m \u001b[0m_\u001b[0m \u001b[0;32min\u001b[0m  \u001b[0mrange\u001b[0m\u001b[0;34m(\u001b[0m\u001b[0;36m4\u001b[0m\u001b[0;34m)\u001b[0m\u001b[0;34m]\u001b[0m\u001b[0;34m\u001b[0m\u001b[0;34m\u001b[0m\u001b[0m\n\u001b[0;32m----> 5\u001b[0;31m     \u001b[0mallloss\u001b[0m\u001b[0;34m[\u001b[0m\u001b[0;36m3\u001b[0m\u001b[0;34m]\u001b[0m\u001b[0;34m,\u001b[0m \u001b[0mallxpath\u001b[0m\u001b[0;34m[\u001b[0m\u001b[0;36m3\u001b[0m\u001b[0;34m]\u001b[0m\u001b[0;34m,\u001b[0m \u001b[0mallypath\u001b[0m\u001b[0;34m[\u001b[0m\u001b[0;36m3\u001b[0m\u001b[0;34m]\u001b[0m\u001b[0;34m=\u001b[0m \u001b[0mnltgcr\u001b[0m\u001b[0;34m(\u001b[0m\u001b[0mproblem\u001b[0m\u001b[0;34m,\u001b[0m \u001b[0mx0\u001b[0m\u001b[0;34m,\u001b[0m \u001b[0my0\u001b[0m\u001b[0;34m,\u001b[0m \u001b[0;36m10\u001b[0m\u001b[0;34m,\u001b[0m \u001b[0mlrset\u001b[0m\u001b[0;34m[\u001b[0m\u001b[0;34m'fr'\u001b[0m\u001b[0;34m]\u001b[0m\u001b[0;34m,\u001b[0m\u001b[0mk\u001b[0m\u001b[0;34m)\u001b[0m\u001b[0;34m\u001b[0m\u001b[0;34m\u001b[0m\u001b[0m\n\u001b[0m\u001b[1;32m      6\u001b[0m     \u001b[0mallloss\u001b[0m\u001b[0;34m[\u001b[0m\u001b[0;36m0\u001b[0m\u001b[0;34m]\u001b[0m\u001b[0;34m,\u001b[0m \u001b[0mallxpath\u001b[0m\u001b[0;34m[\u001b[0m\u001b[0;36m0\u001b[0m\u001b[0;34m]\u001b[0m\u001b[0;34m,\u001b[0m \u001b[0mallypath\u001b[0m\u001b[0;34m[\u001b[0m\u001b[0;36m0\u001b[0m\u001b[0;34m]\u001b[0m \u001b[0;34m=\u001b[0m \u001b[0maltgd\u001b[0m\u001b[0;34m(\u001b[0m\u001b[0mproblem\u001b[0m\u001b[0;34m,\u001b[0m \u001b[0mx0\u001b[0m\u001b[0;34m,\u001b[0m \u001b[0my0\u001b[0m\u001b[0;34m,\u001b[0m \u001b[0miteration\u001b[0m\u001b[0;34m,\u001b[0m \u001b[0mlr\u001b[0m\u001b[0;34m=\u001b[0m\u001b[0mlrset\u001b[0m\u001b[0;34m[\u001b[0m\u001b[0;34m'altgd'\u001b[0m\u001b[0;34m]\u001b[0m\u001b[0;34m)\u001b[0m\u001b[0;34m\u001b[0m\u001b[0;34m\u001b[0m\u001b[0m\n\u001b[1;32m      7\u001b[0m     \u001b[0mallloss\u001b[0m\u001b[0;34m[\u001b[0m\u001b[0;36m1\u001b[0m\u001b[0;34m]\u001b[0m\u001b[0;34m,\u001b[0m \u001b[0mallxpath\u001b[0m\u001b[0;34m[\u001b[0m\u001b[0;36m1\u001b[0m\u001b[0;34m]\u001b[0m\u001b[0;34m,\u001b[0m \u001b[0mallypath\u001b[0m\u001b[0;34m[\u001b[0m\u001b[0;36m1\u001b[0m\u001b[0;34m]\u001b[0m \u001b[0;34m=\u001b[0m \u001b[0meg\u001b[0m\u001b[0;34m(\u001b[0m\u001b[0mproblem\u001b[0m\u001b[0;34m,\u001b[0m \u001b[0mx0\u001b[0m\u001b[0;34m,\u001b[0m \u001b[0my0\u001b[0m\u001b[0;34m,\u001b[0m \u001b[0miteration\u001b[0m\u001b[0;34m,\u001b[0m \u001b[0mlr\u001b[0m\u001b[0;34m=\u001b[0m\u001b[0mlrset\u001b[0m\u001b[0;34m[\u001b[0m\u001b[0;34m'eg'\u001b[0m\u001b[0;34m]\u001b[0m\u001b[0;34m)\u001b[0m\u001b[0;34m\u001b[0m\u001b[0;34m\u001b[0m\u001b[0m\n",
      "\u001b[0;32m/tmp/ipykernel_247437/2458287605.py\u001b[0m in \u001b[0;36mnltgcr\u001b[0;34m(problem, x0, y0, iteration, lr, k)\u001b[0m\n\u001b[1;32m     22\u001b[0m     \u001b[0mep\u001b[0m \u001b[0;34m=\u001b[0m \u001b[0;36m1e-8\u001b[0m\u001b[0;34m\u001b[0m\u001b[0;34m\u001b[0m\u001b[0m\n\u001b[1;32m     23\u001b[0m     \u001b[0;32mfor\u001b[0m \u001b[0mjj\u001b[0m \u001b[0;32min\u001b[0m \u001b[0mrange\u001b[0m\u001b[0;34m(\u001b[0m\u001b[0;36m50\u001b[0m\u001b[0;34m)\u001b[0m\u001b[0;34m:\u001b[0m\u001b[0;34m\u001b[0m\u001b[0;34m\u001b[0m\u001b[0m\n\u001b[0;32m---> 24\u001b[0;31m         \u001b[0mr\u001b[0m \u001b[0;34m=\u001b[0m \u001b[0mFF\u001b[0m\u001b[0;34m(\u001b[0m\u001b[0mw\u001b[0m\u001b[0;34m)\u001b[0m\u001b[0;34m\u001b[0m\u001b[0;34m\u001b[0m\u001b[0m\n\u001b[0m\u001b[1;32m     25\u001b[0m         \u001b[0mrho\u001b[0m \u001b[0;34m=\u001b[0m \u001b[0mnalg\u001b[0m\u001b[0;34m.\u001b[0m\u001b[0mnorm\u001b[0m\u001b[0;34m(\u001b[0m\u001b[0mr\u001b[0m\u001b[0;34m)\u001b[0m\u001b[0;34m\u001b[0m\u001b[0;34m\u001b[0m\u001b[0m\n\u001b[1;32m     26\u001b[0m         \u001b[0mAr\u001b[0m \u001b[0;34m=\u001b[0m \u001b[0;34m(\u001b[0m\u001b[0mFH\u001b[0m\u001b[0;34m(\u001b[0m\u001b[0mw\u001b[0m\u001b[0;34m,\u001b[0m\u001b[0mr\u001b[0m\u001b[0;34m)\u001b[0m\u001b[0;34m-\u001b[0m\u001b[0mr\u001b[0m\u001b[0;34m)\u001b[0m\u001b[0;34m/\u001b[0m\u001b[0mep\u001b[0m\u001b[0;34m\u001b[0m\u001b[0;34m\u001b[0m\u001b[0m\n",
      "\u001b[0;32m/tmp/ipykernel_247437/2458287605.py\u001b[0m in \u001b[0;36mFF\u001b[0;34m(w)\u001b[0m\n\u001b[1;32m      6\u001b[0m     \u001b[0mw\u001b[0m \u001b[0;34m=\u001b[0m \u001b[0mjnp\u001b[0m\u001b[0;34m.\u001b[0m\u001b[0marray\u001b[0m\u001b[0;34m(\u001b[0m\u001b[0;34m[\u001b[0m\u001b[0mx0\u001b[0m\u001b[0;34m,\u001b[0m \u001b[0my0\u001b[0m\u001b[0;34m]\u001b[0m\u001b[0;34m)\u001b[0m\u001b[0;34m\u001b[0m\u001b[0;34m\u001b[0m\u001b[0m\n\u001b[1;32m      7\u001b[0m     \u001b[0;32mdef\u001b[0m \u001b[0mFF\u001b[0m\u001b[0;34m(\u001b[0m\u001b[0mw\u001b[0m\u001b[0;34m)\u001b[0m\u001b[0;34m:\u001b[0m\u001b[0;34m\u001b[0m\u001b[0;34m\u001b[0m\u001b[0m\n\u001b[0;32m----> 8\u001b[0;31m         \u001b[0mg_x\u001b[0m\u001b[0;34m,\u001b[0m \u001b[0mg_y\u001b[0m \u001b[0;34m=\u001b[0m \u001b[0mproblem\u001b[0m\u001b[0;34m.\u001b[0m\u001b[0mgrad\u001b[0m\u001b[0;34m(\u001b[0m\u001b[0mw\u001b[0m\u001b[0;34m[\u001b[0m\u001b[0;36m0\u001b[0m\u001b[0;34m]\u001b[0m\u001b[0;34m,\u001b[0m\u001b[0mw\u001b[0m\u001b[0;34m[\u001b[0m\u001b[0;36m1\u001b[0m\u001b[0;34m]\u001b[0m\u001b[0;34m)\u001b[0m\u001b[0;34m\u001b[0m\u001b[0;34m\u001b[0m\u001b[0m\n\u001b[0m\u001b[1;32m      9\u001b[0m         \u001b[0;32mreturn\u001b[0m  \u001b[0mjnp\u001b[0m\u001b[0;34m.\u001b[0m\u001b[0marray\u001b[0m\u001b[0;34m(\u001b[0m\u001b[0;34m[\u001b[0m\u001b[0;34m-\u001b[0m\u001b[0mg_x\u001b[0m\u001b[0;34m,\u001b[0m \u001b[0mg_y\u001b[0m\u001b[0;34m]\u001b[0m\u001b[0;34m)\u001b[0m\u001b[0;34m\u001b[0m\u001b[0;34m\u001b[0m\u001b[0m\n\u001b[1;32m     10\u001b[0m \u001b[0;34m\u001b[0m\u001b[0m\n",
      "\u001b[0;32m~/Downloads/PY/problems.py\u001b[0m in \u001b[0;36mgrad\u001b[0;34m(self, x, y)\u001b[0m\n\u001b[1;32m     67\u001b[0m \u001b[0;34m\u001b[0m\u001b[0m\n\u001b[1;32m     68\u001b[0m     \u001b[0;32mdef\u001b[0m \u001b[0mgrad\u001b[0m\u001b[0;34m(\u001b[0m\u001b[0mself\u001b[0m\u001b[0;34m,\u001b[0m \u001b[0mx\u001b[0m\u001b[0;34m,\u001b[0m \u001b[0my\u001b[0m\u001b[0;34m)\u001b[0m\u001b[0;34m:\u001b[0m\u001b[0;34m\u001b[0m\u001b[0;34m\u001b[0m\u001b[0m\n\u001b[0;32m---> 69\u001b[0;31m         \u001b[0mderivs\u001b[0m \u001b[0;34m=\u001b[0m \u001b[0mgrad\u001b[0m\u001b[0;34m(\u001b[0m\u001b[0mself\u001b[0m\u001b[0;34m.\u001b[0m\u001b[0mf\u001b[0m\u001b[0;34m)\u001b[0m\u001b[0;34m(\u001b[0m\u001b[0mx\u001b[0m\u001b[0;34m,\u001b[0m \u001b[0my\u001b[0m\u001b[0;34m)\u001b[0m\u001b[0;34m\u001b[0m\u001b[0;34m\u001b[0m\u001b[0m\n\u001b[0m\u001b[1;32m     70\u001b[0m         \u001b[0;32mreturn\u001b[0m \u001b[0mderivs\u001b[0m\u001b[0;34m[\u001b[0m\u001b[0;36m0\u001b[0m\u001b[0;34m]\u001b[0m\u001b[0;34m,\u001b[0m \u001b[0mderivs\u001b[0m\u001b[0;34m[\u001b[0m\u001b[0;36m1\u001b[0m\u001b[0;34m]\u001b[0m\u001b[0;34m\u001b[0m\u001b[0;34m\u001b[0m\u001b[0m\n\u001b[1;32m     71\u001b[0m \u001b[0;34m\u001b[0m\u001b[0m\n",
      "\u001b[0;32m~/anaconda3/envs/cuda116/lib/python3.7/site-packages/autograd/wrap_util.py\u001b[0m in \u001b[0;36mnary_f\u001b[0;34m(*args, **kwargs)\u001b[0m\n\u001b[1;32m     18\u001b[0m             \u001b[0;32melse\u001b[0m\u001b[0;34m:\u001b[0m\u001b[0;34m\u001b[0m\u001b[0;34m\u001b[0m\u001b[0m\n\u001b[1;32m     19\u001b[0m                 \u001b[0mx\u001b[0m \u001b[0;34m=\u001b[0m \u001b[0mtuple\u001b[0m\u001b[0;34m(\u001b[0m\u001b[0margs\u001b[0m\u001b[0;34m[\u001b[0m\u001b[0mi\u001b[0m\u001b[0;34m]\u001b[0m \u001b[0;32mfor\u001b[0m \u001b[0mi\u001b[0m \u001b[0;32min\u001b[0m \u001b[0margnum\u001b[0m\u001b[0;34m)\u001b[0m\u001b[0;34m\u001b[0m\u001b[0;34m\u001b[0m\u001b[0m\n\u001b[0;32m---> 20\u001b[0;31m             \u001b[0;32mreturn\u001b[0m \u001b[0munary_operator\u001b[0m\u001b[0;34m(\u001b[0m\u001b[0munary_f\u001b[0m\u001b[0;34m,\u001b[0m \u001b[0mx\u001b[0m\u001b[0;34m,\u001b[0m \u001b[0;34m*\u001b[0m\u001b[0mnary_op_args\u001b[0m\u001b[0;34m,\u001b[0m \u001b[0;34m**\u001b[0m\u001b[0mnary_op_kwargs\u001b[0m\u001b[0;34m)\u001b[0m\u001b[0;34m\u001b[0m\u001b[0;34m\u001b[0m\u001b[0m\n\u001b[0m\u001b[1;32m     21\u001b[0m         \u001b[0;32mreturn\u001b[0m \u001b[0mnary_f\u001b[0m\u001b[0;34m\u001b[0m\u001b[0;34m\u001b[0m\u001b[0m\n\u001b[1;32m     22\u001b[0m     \u001b[0;32mreturn\u001b[0m \u001b[0mnary_operator\u001b[0m\u001b[0;34m\u001b[0m\u001b[0;34m\u001b[0m\u001b[0m\n",
      "\u001b[0;32m~/anaconda3/envs/cuda116/lib/python3.7/site-packages/autograd/differential_operators.py\u001b[0m in \u001b[0;36mgrad\u001b[0;34m(fun, x)\u001b[0m\n\u001b[1;32m     26\u001b[0m     \u001b[0marguments\u001b[0m \u001b[0;32mas\u001b[0m\u001b[0;31m \u001b[0m\u001b[0;31m`\u001b[0m\u001b[0mfun\u001b[0m\u001b[0;31m`\u001b[0m\u001b[0;34m,\u001b[0m \u001b[0mbut\u001b[0m \u001b[0mreturns\u001b[0m \u001b[0mthe\u001b[0m \u001b[0mgradient\u001b[0m \u001b[0minstead\u001b[0m\u001b[0;34m.\u001b[0m \u001b[0mThe\u001b[0m \u001b[0mfunction\u001b[0m\u001b[0;31m \u001b[0m\u001b[0;31m`\u001b[0m\u001b[0mfun\u001b[0m\u001b[0;31m`\u001b[0m\u001b[0;34m\u001b[0m\u001b[0;34m\u001b[0m\u001b[0m\n\u001b[1;32m     27\u001b[0m     should be scalar-valued. The gradient has the same type as the argument.\"\"\"\n\u001b[0;32m---> 28\u001b[0;31m     \u001b[0mvjp\u001b[0m\u001b[0;34m,\u001b[0m \u001b[0mans\u001b[0m \u001b[0;34m=\u001b[0m \u001b[0m_make_vjp\u001b[0m\u001b[0;34m(\u001b[0m\u001b[0mfun\u001b[0m\u001b[0;34m,\u001b[0m \u001b[0mx\u001b[0m\u001b[0;34m)\u001b[0m\u001b[0;34m\u001b[0m\u001b[0;34m\u001b[0m\u001b[0m\n\u001b[0m\u001b[1;32m     29\u001b[0m     \u001b[0;32mif\u001b[0m \u001b[0;32mnot\u001b[0m \u001b[0mvspace\u001b[0m\u001b[0;34m(\u001b[0m\u001b[0mans\u001b[0m\u001b[0;34m)\u001b[0m\u001b[0;34m.\u001b[0m\u001b[0msize\u001b[0m \u001b[0;34m==\u001b[0m \u001b[0;36m1\u001b[0m\u001b[0;34m:\u001b[0m\u001b[0;34m\u001b[0m\u001b[0;34m\u001b[0m\u001b[0m\n\u001b[1;32m     30\u001b[0m         raise TypeError(\"Grad only applies to real scalar-output functions. \"\n",
      "\u001b[0;32m~/anaconda3/envs/cuda116/lib/python3.7/site-packages/autograd/core.py\u001b[0m in \u001b[0;36mmake_vjp\u001b[0;34m(fun, x)\u001b[0m\n\u001b[1;32m      8\u001b[0m \u001b[0;32mdef\u001b[0m \u001b[0mmake_vjp\u001b[0m\u001b[0;34m(\u001b[0m\u001b[0mfun\u001b[0m\u001b[0;34m,\u001b[0m \u001b[0mx\u001b[0m\u001b[0;34m)\u001b[0m\u001b[0;34m:\u001b[0m\u001b[0;34m\u001b[0m\u001b[0;34m\u001b[0m\u001b[0m\n\u001b[1;32m      9\u001b[0m     \u001b[0mstart_node\u001b[0m \u001b[0;34m=\u001b[0m \u001b[0mVJPNode\u001b[0m\u001b[0;34m.\u001b[0m\u001b[0mnew_root\u001b[0m\u001b[0;34m(\u001b[0m\u001b[0;34m)\u001b[0m\u001b[0;34m\u001b[0m\u001b[0;34m\u001b[0m\u001b[0m\n\u001b[0;32m---> 10\u001b[0;31m     \u001b[0mend_value\u001b[0m\u001b[0;34m,\u001b[0m \u001b[0mend_node\u001b[0m \u001b[0;34m=\u001b[0m  \u001b[0mtrace\u001b[0m\u001b[0;34m(\u001b[0m\u001b[0mstart_node\u001b[0m\u001b[0;34m,\u001b[0m \u001b[0mfun\u001b[0m\u001b[0;34m,\u001b[0m \u001b[0mx\u001b[0m\u001b[0;34m)\u001b[0m\u001b[0;34m\u001b[0m\u001b[0;34m\u001b[0m\u001b[0m\n\u001b[0m\u001b[1;32m     11\u001b[0m     \u001b[0;32mif\u001b[0m \u001b[0mend_node\u001b[0m \u001b[0;32mis\u001b[0m \u001b[0;32mNone\u001b[0m\u001b[0;34m:\u001b[0m\u001b[0;34m\u001b[0m\u001b[0;34m\u001b[0m\u001b[0m\n\u001b[1;32m     12\u001b[0m         \u001b[0;32mdef\u001b[0m \u001b[0mvjp\u001b[0m\u001b[0;34m(\u001b[0m\u001b[0mg\u001b[0m\u001b[0;34m)\u001b[0m\u001b[0;34m:\u001b[0m \u001b[0;32mreturn\u001b[0m \u001b[0mvspace\u001b[0m\u001b[0;34m(\u001b[0m\u001b[0mx\u001b[0m\u001b[0;34m)\u001b[0m\u001b[0;34m.\u001b[0m\u001b[0mzeros\u001b[0m\u001b[0;34m(\u001b[0m\u001b[0;34m)\u001b[0m\u001b[0;34m\u001b[0m\u001b[0;34m\u001b[0m\u001b[0m\n",
      "\u001b[0;32m~/anaconda3/envs/cuda116/lib/python3.7/site-packages/autograd/tracer.py\u001b[0m in \u001b[0;36mtrace\u001b[0;34m(start_node, fun, x)\u001b[0m\n\u001b[1;32m      7\u001b[0m \u001b[0;32mdef\u001b[0m \u001b[0mtrace\u001b[0m\u001b[0;34m(\u001b[0m\u001b[0mstart_node\u001b[0m\u001b[0;34m,\u001b[0m \u001b[0mfun\u001b[0m\u001b[0;34m,\u001b[0m \u001b[0mx\u001b[0m\u001b[0;34m)\u001b[0m\u001b[0;34m:\u001b[0m\u001b[0;34m\u001b[0m\u001b[0;34m\u001b[0m\u001b[0m\n\u001b[1;32m      8\u001b[0m     \u001b[0;32mwith\u001b[0m \u001b[0mtrace_stack\u001b[0m\u001b[0;34m.\u001b[0m\u001b[0mnew_trace\u001b[0m\u001b[0;34m(\u001b[0m\u001b[0;34m)\u001b[0m \u001b[0;32mas\u001b[0m \u001b[0mt\u001b[0m\u001b[0;34m:\u001b[0m\u001b[0;34m\u001b[0m\u001b[0;34m\u001b[0m\u001b[0m\n\u001b[0;32m----> 9\u001b[0;31m         \u001b[0mstart_box\u001b[0m \u001b[0;34m=\u001b[0m \u001b[0mnew_box\u001b[0m\u001b[0;34m(\u001b[0m\u001b[0mx\u001b[0m\u001b[0;34m,\u001b[0m \u001b[0mt\u001b[0m\u001b[0;34m,\u001b[0m \u001b[0mstart_node\u001b[0m\u001b[0;34m)\u001b[0m\u001b[0;34m\u001b[0m\u001b[0;34m\u001b[0m\u001b[0m\n\u001b[0m\u001b[1;32m     10\u001b[0m         \u001b[0mend_box\u001b[0m \u001b[0;34m=\u001b[0m \u001b[0mfun\u001b[0m\u001b[0;34m(\u001b[0m\u001b[0mstart_box\u001b[0m\u001b[0;34m)\u001b[0m\u001b[0;34m\u001b[0m\u001b[0;34m\u001b[0m\u001b[0m\n\u001b[1;32m     11\u001b[0m         \u001b[0;32mif\u001b[0m \u001b[0misbox\u001b[0m\u001b[0;34m(\u001b[0m\u001b[0mend_box\u001b[0m\u001b[0;34m)\u001b[0m \u001b[0;32mand\u001b[0m \u001b[0mend_box\u001b[0m\u001b[0;34m.\u001b[0m\u001b[0m_trace\u001b[0m \u001b[0;34m==\u001b[0m \u001b[0mstart_box\u001b[0m\u001b[0;34m.\u001b[0m\u001b[0m_trace\u001b[0m\u001b[0;34m:\u001b[0m\u001b[0;34m\u001b[0m\u001b[0;34m\u001b[0m\u001b[0m\n",
      "\u001b[0;32m~/anaconda3/envs/cuda116/lib/python3.7/site-packages/autograd/tracer.py\u001b[0m in \u001b[0;36mnew_box\u001b[0;34m(value, trace, node)\u001b[0m\n\u001b[1;32m    118\u001b[0m         \u001b[0;32mreturn\u001b[0m \u001b[0mbox_type_mappings\u001b[0m\u001b[0;34m[\u001b[0m\u001b[0mtype\u001b[0m\u001b[0;34m(\u001b[0m\u001b[0mvalue\u001b[0m\u001b[0;34m)\u001b[0m\u001b[0;34m]\u001b[0m\u001b[0;34m(\u001b[0m\u001b[0mvalue\u001b[0m\u001b[0;34m,\u001b[0m \u001b[0mtrace\u001b[0m\u001b[0;34m,\u001b[0m \u001b[0mnode\u001b[0m\u001b[0;34m)\u001b[0m\u001b[0;34m\u001b[0m\u001b[0;34m\u001b[0m\u001b[0m\n\u001b[1;32m    119\u001b[0m     \u001b[0;32mexcept\u001b[0m \u001b[0mKeyError\u001b[0m\u001b[0;34m:\u001b[0m\u001b[0;34m\u001b[0m\u001b[0;34m\u001b[0m\u001b[0m\n\u001b[0;32m--> 120\u001b[0;31m         \u001b[0;32mraise\u001b[0m \u001b[0mTypeError\u001b[0m\u001b[0;34m(\u001b[0m\u001b[0;34m\"Can't differentiate w.r.t. type {}\"\u001b[0m\u001b[0;34m.\u001b[0m\u001b[0mformat\u001b[0m\u001b[0;34m(\u001b[0m\u001b[0mtype\u001b[0m\u001b[0;34m(\u001b[0m\u001b[0mvalue\u001b[0m\u001b[0;34m)\u001b[0m\u001b[0;34m)\u001b[0m\u001b[0;34m)\u001b[0m\u001b[0;34m\u001b[0m\u001b[0;34m\u001b[0m\u001b[0m\n\u001b[0m\u001b[1;32m    121\u001b[0m \u001b[0;34m\u001b[0m\u001b[0m\n\u001b[1;32m    122\u001b[0m \u001b[0mbox_types\u001b[0m \u001b[0;34m=\u001b[0m \u001b[0mBox\u001b[0m\u001b[0;34m.\u001b[0m\u001b[0mtypes\u001b[0m\u001b[0;34m\u001b[0m\u001b[0;34m\u001b[0m\u001b[0m\n",
      "\u001b[0;31mTypeError\u001b[0m: Can't differentiate w.r.t. type <class 'jaxlib.xla_extension.DeviceArray'>"
     ]
    }
   ],
   "source": [
    "iteration =100\n",
    "markevery= 10\n",
    "\n",
    "x0, y0 = 4.,3.\n",
    "problem = func3()\n",
    "lr_set = {'simgd':0.05, 'altgd':0.1, 'avg':1, 'adam':0.01, 'eg':0.05,'omd':0.05, 'fr':0.05,'AA':0.2}\n",
    "f = problem.f\n",
    "\n",
    "type2=True\n",
    "loss_f3, xpath_f3, ypath_f3 = main(problem, iteration, x0, y0, lr_set, k=3)\n",
    "xmin, xmax, xstep = [-7, 7, .1]\n",
    "ymin, ymax, ystep = [-7, 7, .1]\n",
    "x, y = np.meshgrid(np.arange(xmin, xmax + xstep, xstep), np.arange(ymin, ymax + ystep, ystep))\n",
    "z = f(x, y)\n",
    "dz_dx = elementwise_grad(f, argnum=0)(x, y)\n",
    "dz_dy = elementwise_grad(f, argnum=1)(x, y)\n",
    "# fig3 = plot(loss_f3, xpath_f3, ypath_f3, iteration, k, [x0, y0])\n",
    "fig, ax3 = plt.subplots(figsize=(5,5))\n",
    "markevery=10\n",
    "xpath1, xpath2, xpath3, xpath4 = xpath_f3\n",
    "ypath1, ypath2, ypath3, ypath4 = ypath_f3\n",
    "loss1, loss2, loss3, loss4 = loss_f3\n",
    "ax3.contourf(x, y, z)\n",
    "# ax3.quiver(x, y, x - dz_dx, y - dz_dy, alpha=.5)\n",
    "ax3.scatter(x0, y0, marker='s', s=100, c='k',alpha=0.6,zorder=20, label='Start')\n",
    "ax3.plot(xpath1, ypath1, 'b--', linewidth=2, label='AltGDA',markevery=markevery)\n",
    "ax3.plot(xpath2, ypath2, 'm--', linewidth=2, label='EG',markevery=markevery)\n",
    "ax3.plot(xpath3, ypath3, 'k--', linewidth=2, label='FR',markevery=markevery)\n",
    "ax3.plot(xpath4, ypath4, 'r-^', linewidth=2, label='nlTGCR',markevery=markevery)\n",
    "\n",
    "# ax3.legend([x_init],['Start'], markerscale=1, loc=4, fancybox=True, framealpha=1., fontsize=20)\n",
    "ax3.set_xlabel('x')\n",
    "ax3.set_ylabel('y')  \n",
    "ax3.set_xlim([xmin,xmax])\n",
    "ax3.set_ylim([ymin,ymax])\n",
    "ax3.legend()\n",
    "\n"
   ]
  },
  {
   "cell_type": "code",
   "execution_count": null,
   "metadata": {},
   "outputs": [],
   "source": [
    "from jax import grad"
   ]
  },
  {
   "cell_type": "code",
   "execution_count": null,
   "metadata": {},
   "outputs": [],
   "source": [
    "x = 1+1j"
   ]
  },
  {
   "cell_type": "code",
   "execution_count": null,
   "metadata": {},
   "outputs": [],
   "source": [
    "grad(lambda w: problem.loss(x, 1), holomorphic=True)"
   ]
  },
  {
   "cell_type": "code",
   "execution_count": null,
   "metadata": {},
   "outputs": [],
   "source": [
    "plt.plot(loss3,'k',label='FR')\n",
    "plt.plot(loss4,'r',label='nltcgr')\n",
    "plt.legend()"
   ]
  },
  {
   "cell_type": "code",
   "execution_count": null,
   "metadata": {},
   "outputs": [],
   "source": [
    "loss4"
   ]
  },
  {
   "cell_type": "code",
   "execution_count": null,
   "metadata": {},
   "outputs": [],
   "source": []
  }
 ],
 "metadata": {
  "kernelspec": {
   "display_name": "cuda116",
   "language": "python",
   "name": "python3"
  },
  "language_info": {
   "codemirror_mode": {
    "name": "ipython",
    "version": 3
   },
   "file_extension": ".py",
   "mimetype": "text/x-python",
   "name": "python",
   "nbconvert_exporter": "python",
   "pygments_lexer": "ipython3",
   "version": "3.7.15"
  },
  "orig_nbformat": 4
 },
 "nbformat": 4,
 "nbformat_minor": 2
}
